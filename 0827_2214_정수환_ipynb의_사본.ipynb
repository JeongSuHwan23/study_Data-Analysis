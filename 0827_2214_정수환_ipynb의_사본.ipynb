{
  "nbformat": 4,
  "nbformat_minor": 0,
  "metadata": {
    "colab": {
      "provenance": [],
      "include_colab_link": true
    },
    "kernelspec": {
      "name": "python3",
      "display_name": "Python 3"
    },
    "language_info": {
      "name": "python"
    }
  },
  "cells": [
    {
      "cell_type": "markdown",
      "metadata": {
        "id": "view-in-github",
        "colab_type": "text"
      },
      "source": [
        "<a href=\"https://colab.research.google.com/github/JeongSuHwan23/study_Data-Analysis/blob/master/0827_2214_%EC%A0%95%EC%88%98%ED%99%98_ipynb%EC%9D%98_%EC%82%AC%EB%B3%B8.ipynb\" target=\"_parent\"><img src=\"https://colab.research.google.com/assets/colab-badge.svg\" alt=\"Open In Colab\"/></a>"
      ]
    },
    {
      "cell_type": "code",
      "execution_count": null,
      "metadata": {
        "id": "9C6ophtL3KmW",
        "colab": {
          "base_uri": "https://localhost:8080/"
        },
        "outputId": "34b500c2-1530-4e2b-c45a-299347a15a3e"
      },
      "outputs": [
        {
          "output_type": "stream",
          "name": "stdout",
          "text": [
            "ID : juliahn\n",
            "아이디를 다시 입력하세요\n",
            "ID : fvwwy\n",
            "아이디 확인완료\n",
            "PW : abc\n",
            "비밀번호를 다시 입력하세요\n",
            "PW : 82$%)31\n",
            "로그인 성공\n"
          ]
        }
      ],
      "source": [
        "from os import truncate\n",
        "members = {'urkpo': '0928^7$',\n",
        "           'xxayv': '%2*9$91',\n",
        "           'lsqvx': '!0%)&&4',\n",
        "           'heums': '%@3^0%3',\n",
        "           'uwcmc': '85236(&',\n",
        "           'iemwv': ')8!36^&',\n",
        "           'sqblx': ')^2)9!(',\n",
        "           'jbbpy': '67269*3',\n",
        "           'hjkwu': '$&@@#64',\n",
        "           'fvwwy': '82$%)31'}\n"
      ]
    },
    {
      "cell_type": "code",
      "source": [],
      "metadata": {
        "id": "SBZov22tiwaT"
      },
      "execution_count": null,
      "outputs": []
    },
    {
      "cell_type": "code",
      "source": [
        "import pandas as pd\n",
        "url = 'https://www.koreabaseball.com/Record/Player/HitterBasic/BasicOld.aspx'\n",
        "tables = pd.read_html( url )\n",
        "tables[0].to_excel(\"KBO_타자기록.xlsx\")\n",
        "df = pd.DataFrame( tables[0] )\n",
        "print( df )"
      ],
      "metadata": {
        "colab": {
          "base_uri": "https://localhost:8080/"
        },
        "id": "0o4-SBABYmiM",
        "outputId": "99589a5c-5572-4d9a-9099-4cc2e0358b64"
      },
      "execution_count": null,
      "outputs": [
        {
          "output_type": "stream",
          "name": "stdout",
          "text": [
            "    순위    선수명   팀명    AVG    G   PA   AB    H  2B  3B  HR  RBI  SB  CS  BB  \\\n",
            "0    1   에레디아  SSG  0.356  113  490  449  160  24   1  14   95   4   3  23   \n",
            "1    2   레이예스   롯데  0.351  115  503  461  162  31   2  14   89   4   0  34   \n",
            "2    3    박건우   NC  0.344   89  362  323  111  23   1  13   53   4   0  33   \n",
            "3    4    송성문   키움  0.343  118  490  428  147  21   3  16   89  16   0  51   \n",
            "4    5    김도영  KIA  0.342  119  527  459  157  26   6  32   91  35   4  58   \n",
            "5    6    박민우   NC  0.337   98  437  377  127  25   2   5   38  29   6  47   \n",
            "6    7    김혜성   키움  0.337  105  468  419  141  23   4  11   67  26   6  40   \n",
            "7    8     도슨   키움  0.330   95  429  382  126  31   2  11   57   2   2  39   \n",
            "8    9    허경민   두산  0.330   99  417  367  121  26   0   7   57   5   0  30   \n",
            "9   10    로하스   KT  0.329  122  566  484  159  34   0  28   93   2   1  73   \n",
            "10  11    양의지   두산  0.318  104  425  380  121  15   0  15   85   2   0  32   \n",
            "11  12    구자욱   삼성  0.318  109  481  421  134  34   1  22   84  10   4  43   \n",
            "12  13    홍창기   LG  0.312  116  532  433  135  10   3   4   58  10  10  84   \n",
            "13  14    오스틴   LG  0.312  117  508  443  138  27   2  30  111  11   6  51   \n",
            "14  15    김지찬   삼성  0.311  118  463  392  122  15   0   3   27  33   3  49   \n",
            "15  16    강민호   삼성  0.307  119  402  355  109  15   1  17   72   3   0  35   \n",
            "16  17    고승민   롯데  0.307   91  402  362  111  22   3  11   66   4   2  34   \n",
            "17  18    김태연   한화  0.307  104  405  349  107  23   0  11   57   3   2  43   \n",
            "18  19  소크라테스  KIA  0.303  121  522  475  144  25   3  23   82  11   4  38   \n",
            "19  20    안치홍   한화  0.300  109  461  406  122  16   0  12   58   3   2  44   \n",
            "20  21    나승엽   롯데  0.300   92  370  310   93  28   4   5   48   0   0  50   \n",
            "21  22    전준우   롯데  0.297   80  356  316   94  21   1  14   63   3   1  32   \n",
            "22  23    박찬호  KIA  0.297  112  481  431  128  19   1   2   44  15  10  37   \n",
            "23  24    문보경   LG  0.295  120  495  427  126  30   3  15   74   6   6  53   \n",
            "24  25    김현수   LG  0.295  114  490  434  128  28   2   7   58   4   1  42   \n",
            "25  26    김선빈  KIA  0.294  100  401  361  106  17   0   8   46   4   1  29   \n",
            "26  27    신민재   LG  0.292  117  437  359  105  10   5   0   38  31   9  59   \n",
            "27  28    나성범  KIA  0.290   89  375  331   96  16   1  17   71   0   0  34   \n",
            "28  29   데이비슨   NC  0.290  106  462  407  118  16   0  37   95   0   1  35   \n",
            "29  30    윤동희   롯데  0.289  112  490  425  123  27   3  12   65   6   5  55   \n",
            "\n",
            "    HBP   SO  GDP   E  \n",
            "0    11   62   11   3  \n",
            "1     1   65   12   4  \n",
            "2     4   54    7   1  \n",
            "3     3   60    4  10  \n",
            "4     4  100    7  26  \n",
            "5     8   66    3   6  \n",
            "6     4   47    6  14  \n",
            "7     6   54   10   2  \n",
            "8    15   22    6   5  \n",
            "9     6   97   10   2  \n",
            "10    7   49   13   4  \n",
            "11   10   64    5   0  \n",
            "12   12   80    8  10  \n",
            "13    3   73    7   7  \n",
            "14    9   34    5   2  \n",
            "15    7   46   15   2  \n",
            "16    1   61    7   8  \n",
            "17    4   72    7   9  \n",
            "18    4   81    6   5  \n",
            "19    6   62    6   5  \n",
            "20    4   65    3   7  \n",
            "21    3   58    8   1  \n",
            "22    1   37    7  18  \n",
            "23    1   88   10  13  \n",
            "24    5   66    9   0  \n",
            "25    5   37   13  10  \n",
            "26    4   44    7  11  \n",
            "27    3   87    7   1  \n",
            "28   14  117   10  11  \n",
            "29    3   86    8   2  \n"
          ]
        }
      ]
    }
  ]
}